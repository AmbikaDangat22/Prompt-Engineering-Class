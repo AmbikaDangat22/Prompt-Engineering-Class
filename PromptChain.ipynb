{
  "nbformat": 4,
  "nbformat_minor": 0,
  "metadata": {
    "colab": {
      "provenance": []
    },
    "kernelspec": {
      "name": "python3",
      "display_name": "Python 3"
    },
    "language_info": {
      "name": "python"
    }
  },
  "cells": [
    {
      "cell_type": "code",
      "execution_count": 1,
      "metadata": {
        "colab": {
          "base_uri": "https://localhost:8080/"
        },
        "id": "7zIyKALQzS4R",
        "outputId": "f139183b-dd56-4ce5-faa6-66d8fe326cdd"
      },
      "outputs": [
        {
          "output_type": "stream",
          "name": "stdout",
          "text": [
            "Collecting langchain\n",
            "  Downloading langchain-0.2.14-py3-none-any.whl.metadata (7.1 kB)\n",
            "Collecting groq\n",
            "  Downloading groq-0.9.0-py3-none-any.whl.metadata (13 kB)\n",
            "Requirement already satisfied: PyYAML>=5.3 in /usr/local/lib/python3.10/dist-packages (from langchain) (6.0.2)\n",
            "Requirement already satisfied: SQLAlchemy<3,>=1.4 in /usr/local/lib/python3.10/dist-packages (from langchain) (2.0.32)\n",
            "Requirement already satisfied: aiohttp<4.0.0,>=3.8.3 in /usr/local/lib/python3.10/dist-packages (from langchain) (3.10.5)\n",
            "Requirement already satisfied: async-timeout<5.0.0,>=4.0.0 in /usr/local/lib/python3.10/dist-packages (from langchain) (4.0.3)\n",
            "Collecting langchain-core<0.3.0,>=0.2.32 (from langchain)\n",
            "  Downloading langchain_core-0.2.35-py3-none-any.whl.metadata (6.2 kB)\n",
            "Collecting langchain-text-splitters<0.3.0,>=0.2.0 (from langchain)\n",
            "  Downloading langchain_text_splitters-0.2.2-py3-none-any.whl.metadata (2.1 kB)\n",
            "Collecting langsmith<0.2.0,>=0.1.17 (from langchain)\n",
            "  Downloading langsmith-0.1.104-py3-none-any.whl.metadata (13 kB)\n",
            "Requirement already satisfied: numpy<2,>=1 in /usr/local/lib/python3.10/dist-packages (from langchain) (1.26.4)\n",
            "Requirement already satisfied: pydantic<3,>=1 in /usr/local/lib/python3.10/dist-packages (from langchain) (2.8.2)\n",
            "Requirement already satisfied: requests<3,>=2 in /usr/local/lib/python3.10/dist-packages (from langchain) (2.32.3)\n",
            "Collecting tenacity!=8.4.0,<9.0.0,>=8.1.0 (from langchain)\n",
            "  Downloading tenacity-8.5.0-py3-none-any.whl.metadata (1.2 kB)\n",
            "Requirement already satisfied: anyio<5,>=3.5.0 in /usr/local/lib/python3.10/dist-packages (from groq) (3.7.1)\n",
            "Requirement already satisfied: distro<2,>=1.7.0 in /usr/lib/python3/dist-packages (from groq) (1.7.0)\n",
            "Collecting httpx<1,>=0.23.0 (from groq)\n",
            "  Downloading httpx-0.27.0-py3-none-any.whl.metadata (7.2 kB)\n",
            "Requirement already satisfied: sniffio in /usr/local/lib/python3.10/dist-packages (from groq) (1.3.1)\n",
            "Requirement already satisfied: typing-extensions<5,>=4.7 in /usr/local/lib/python3.10/dist-packages (from groq) (4.12.2)\n",
            "Requirement already satisfied: aiohappyeyeballs>=2.3.0 in /usr/local/lib/python3.10/dist-packages (from aiohttp<4.0.0,>=3.8.3->langchain) (2.4.0)\n",
            "Requirement already satisfied: aiosignal>=1.1.2 in /usr/local/lib/python3.10/dist-packages (from aiohttp<4.0.0,>=3.8.3->langchain) (1.3.1)\n",
            "Requirement already satisfied: attrs>=17.3.0 in /usr/local/lib/python3.10/dist-packages (from aiohttp<4.0.0,>=3.8.3->langchain) (24.2.0)\n",
            "Requirement already satisfied: frozenlist>=1.1.1 in /usr/local/lib/python3.10/dist-packages (from aiohttp<4.0.0,>=3.8.3->langchain) (1.4.1)\n",
            "Requirement already satisfied: multidict<7.0,>=4.5 in /usr/local/lib/python3.10/dist-packages (from aiohttp<4.0.0,>=3.8.3->langchain) (6.0.5)\n",
            "Requirement already satisfied: yarl<2.0,>=1.0 in /usr/local/lib/python3.10/dist-packages (from aiohttp<4.0.0,>=3.8.3->langchain) (1.9.4)\n",
            "Requirement already satisfied: idna>=2.8 in /usr/local/lib/python3.10/dist-packages (from anyio<5,>=3.5.0->groq) (3.7)\n",
            "Requirement already satisfied: exceptiongroup in /usr/local/lib/python3.10/dist-packages (from anyio<5,>=3.5.0->groq) (1.2.2)\n",
            "Requirement already satisfied: certifi in /usr/local/lib/python3.10/dist-packages (from httpx<1,>=0.23.0->groq) (2024.7.4)\n",
            "Collecting httpcore==1.* (from httpx<1,>=0.23.0->groq)\n",
            "  Downloading httpcore-1.0.5-py3-none-any.whl.metadata (20 kB)\n",
            "Collecting h11<0.15,>=0.13 (from httpcore==1.*->httpx<1,>=0.23.0->groq)\n",
            "  Downloading h11-0.14.0-py3-none-any.whl.metadata (8.2 kB)\n",
            "Collecting jsonpatch<2.0,>=1.33 (from langchain-core<0.3.0,>=0.2.32->langchain)\n",
            "  Downloading jsonpatch-1.33-py2.py3-none-any.whl.metadata (3.0 kB)\n",
            "Requirement already satisfied: packaging<25,>=23.2 in /usr/local/lib/python3.10/dist-packages (from langchain-core<0.3.0,>=0.2.32->langchain) (24.1)\n",
            "Collecting orjson<4.0.0,>=3.9.14 (from langsmith<0.2.0,>=0.1.17->langchain)\n",
            "  Downloading orjson-3.10.7-cp310-cp310-manylinux_2_17_x86_64.manylinux2014_x86_64.whl.metadata (50 kB)\n",
            "\u001b[2K     \u001b[90m━━━━━━━━━━━━━━━━━━━━━━━━━━━━━━━━━━━━━━━━\u001b[0m \u001b[32m50.4/50.4 kB\u001b[0m \u001b[31m1.6 MB/s\u001b[0m eta \u001b[36m0:00:00\u001b[0m\n",
            "\u001b[?25hRequirement already satisfied: annotated-types>=0.4.0 in /usr/local/lib/python3.10/dist-packages (from pydantic<3,>=1->langchain) (0.7.0)\n",
            "Requirement already satisfied: pydantic-core==2.20.1 in /usr/local/lib/python3.10/dist-packages (from pydantic<3,>=1->langchain) (2.20.1)\n",
            "Requirement already satisfied: charset-normalizer<4,>=2 in /usr/local/lib/python3.10/dist-packages (from requests<3,>=2->langchain) (3.3.2)\n",
            "Requirement already satisfied: urllib3<3,>=1.21.1 in /usr/local/lib/python3.10/dist-packages (from requests<3,>=2->langchain) (2.0.7)\n",
            "Requirement already satisfied: greenlet!=0.4.17 in /usr/local/lib/python3.10/dist-packages (from SQLAlchemy<3,>=1.4->langchain) (3.0.3)\n",
            "Collecting jsonpointer>=1.9 (from jsonpatch<2.0,>=1.33->langchain-core<0.3.0,>=0.2.32->langchain)\n",
            "  Downloading jsonpointer-3.0.0-py2.py3-none-any.whl.metadata (2.3 kB)\n",
            "Downloading langchain-0.2.14-py3-none-any.whl (997 kB)\n",
            "\u001b[2K   \u001b[90m━━━━━━━━━━━━━━━━━━━━━━━━━━━━━━━━━━━━━━━━\u001b[0m \u001b[32m997.8/997.8 kB\u001b[0m \u001b[31m34.5 MB/s\u001b[0m eta \u001b[36m0:00:00\u001b[0m\n",
            "\u001b[?25hDownloading groq-0.9.0-py3-none-any.whl (103 kB)\n",
            "\u001b[2K   \u001b[90m━━━━━━━━━━━━━━━━━━━━━━━━━━━━━━━━━━━━━━━━\u001b[0m \u001b[32m103.5/103.5 kB\u001b[0m \u001b[31m5.8 MB/s\u001b[0m eta \u001b[36m0:00:00\u001b[0m\n",
            "\u001b[?25hDownloading httpx-0.27.0-py3-none-any.whl (75 kB)\n",
            "\u001b[2K   \u001b[90m━━━━━━━━━━━━━━━━━━━━━━━━━━━━━━━━━━━━━━━━\u001b[0m \u001b[32m75.6/75.6 kB\u001b[0m \u001b[31m3.7 MB/s\u001b[0m eta \u001b[36m0:00:00\u001b[0m\n",
            "\u001b[?25hDownloading httpcore-1.0.5-py3-none-any.whl (77 kB)\n",
            "\u001b[2K   \u001b[90m━━━━━━━━━━━━━━━━━━━━━━━━━━━━━━━━━━━━━━━━\u001b[0m \u001b[32m77.9/77.9 kB\u001b[0m \u001b[31m3.8 MB/s\u001b[0m eta \u001b[36m0:00:00\u001b[0m\n",
            "\u001b[?25hDownloading langchain_core-0.2.35-py3-none-any.whl (394 kB)\n",
            "\u001b[2K   \u001b[90m━━━━━━━━━━━━━━━━━━━━━━━━━━━━━━━━━━━━━━━━\u001b[0m \u001b[32m394.9/394.9 kB\u001b[0m \u001b[31m20.5 MB/s\u001b[0m eta \u001b[36m0:00:00\u001b[0m\n",
            "\u001b[?25hDownloading langchain_text_splitters-0.2.2-py3-none-any.whl (25 kB)\n",
            "Downloading langsmith-0.1.104-py3-none-any.whl (149 kB)\n",
            "\u001b[2K   \u001b[90m━━━━━━━━━━━━━━━━━━━━━━━━━━━━━━━━━━━━━━━━\u001b[0m \u001b[32m149.1/149.1 kB\u001b[0m \u001b[31m9.3 MB/s\u001b[0m eta \u001b[36m0:00:00\u001b[0m\n",
            "\u001b[?25hDownloading tenacity-8.5.0-py3-none-any.whl (28 kB)\n",
            "Downloading jsonpatch-1.33-py2.py3-none-any.whl (12 kB)\n",
            "Downloading orjson-3.10.7-cp310-cp310-manylinux_2_17_x86_64.manylinux2014_x86_64.whl (141 kB)\n",
            "\u001b[2K   \u001b[90m━━━━━━━━━━━━━━━━━━━━━━━━━━━━━━━━━━━━━━━━\u001b[0m \u001b[32m141.9/141.9 kB\u001b[0m \u001b[31m8.3 MB/s\u001b[0m eta \u001b[36m0:00:00\u001b[0m\n",
            "\u001b[?25hDownloading h11-0.14.0-py3-none-any.whl (58 kB)\n",
            "\u001b[2K   \u001b[90m━━━━━━━━━━━━━━━━━━━━━━━━━━━━━━━━━━━━━━━━\u001b[0m \u001b[32m58.3/58.3 kB\u001b[0m \u001b[31m3.5 MB/s\u001b[0m eta \u001b[36m0:00:00\u001b[0m\n",
            "\u001b[?25hDownloading jsonpointer-3.0.0-py2.py3-none-any.whl (7.6 kB)\n",
            "Installing collected packages: tenacity, orjson, jsonpointer, h11, jsonpatch, httpcore, httpx, langsmith, groq, langchain-core, langchain-text-splitters, langchain\n",
            "  Attempting uninstall: tenacity\n",
            "    Found existing installation: tenacity 9.0.0\n",
            "    Uninstalling tenacity-9.0.0:\n",
            "      Successfully uninstalled tenacity-9.0.0\n",
            "Successfully installed groq-0.9.0 h11-0.14.0 httpcore-1.0.5 httpx-0.27.0 jsonpatch-1.33 jsonpointer-3.0.0 langchain-0.2.14 langchain-core-0.2.35 langchain-text-splitters-0.2.2 langsmith-0.1.104 orjson-3.10.7 tenacity-8.5.0\n",
            "Collecting langchain-groq\n",
            "  Downloading langchain_groq-0.1.9-py3-none-any.whl.metadata (2.9 kB)\n",
            "Requirement already satisfied: groq in /usr/local/lib/python3.10/dist-packages (0.9.0)\n",
            "Requirement already satisfied: langchain-core<0.3.0,>=0.2.26 in /usr/local/lib/python3.10/dist-packages (from langchain-groq) (0.2.35)\n",
            "Requirement already satisfied: anyio<5,>=3.5.0 in /usr/local/lib/python3.10/dist-packages (from groq) (3.7.1)\n",
            "Requirement already satisfied: distro<2,>=1.7.0 in /usr/lib/python3/dist-packages (from groq) (1.7.0)\n",
            "Requirement already satisfied: httpx<1,>=0.23.0 in /usr/local/lib/python3.10/dist-packages (from groq) (0.27.0)\n",
            "Requirement already satisfied: pydantic<3,>=1.9.0 in /usr/local/lib/python3.10/dist-packages (from groq) (2.8.2)\n",
            "Requirement already satisfied: sniffio in /usr/local/lib/python3.10/dist-packages (from groq) (1.3.1)\n",
            "Requirement already satisfied: typing-extensions<5,>=4.7 in /usr/local/lib/python3.10/dist-packages (from groq) (4.12.2)\n",
            "Requirement already satisfied: idna>=2.8 in /usr/local/lib/python3.10/dist-packages (from anyio<5,>=3.5.0->groq) (3.7)\n",
            "Requirement already satisfied: exceptiongroup in /usr/local/lib/python3.10/dist-packages (from anyio<5,>=3.5.0->groq) (1.2.2)\n",
            "Requirement already satisfied: certifi in /usr/local/lib/python3.10/dist-packages (from httpx<1,>=0.23.0->groq) (2024.7.4)\n",
            "Requirement already satisfied: httpcore==1.* in /usr/local/lib/python3.10/dist-packages (from httpx<1,>=0.23.0->groq) (1.0.5)\n",
            "Requirement already satisfied: h11<0.15,>=0.13 in /usr/local/lib/python3.10/dist-packages (from httpcore==1.*->httpx<1,>=0.23.0->groq) (0.14.0)\n",
            "Requirement already satisfied: PyYAML>=5.3 in /usr/local/lib/python3.10/dist-packages (from langchain-core<0.3.0,>=0.2.26->langchain-groq) (6.0.2)\n",
            "Requirement already satisfied: jsonpatch<2.0,>=1.33 in /usr/local/lib/python3.10/dist-packages (from langchain-core<0.3.0,>=0.2.26->langchain-groq) (1.33)\n",
            "Requirement already satisfied: langsmith<0.2.0,>=0.1.75 in /usr/local/lib/python3.10/dist-packages (from langchain-core<0.3.0,>=0.2.26->langchain-groq) (0.1.104)\n",
            "Requirement already satisfied: packaging<25,>=23.2 in /usr/local/lib/python3.10/dist-packages (from langchain-core<0.3.0,>=0.2.26->langchain-groq) (24.1)\n",
            "Requirement already satisfied: tenacity!=8.4.0,<9.0.0,>=8.1.0 in /usr/local/lib/python3.10/dist-packages (from langchain-core<0.3.0,>=0.2.26->langchain-groq) (8.5.0)\n",
            "Requirement already satisfied: annotated-types>=0.4.0 in /usr/local/lib/python3.10/dist-packages (from pydantic<3,>=1.9.0->groq) (0.7.0)\n",
            "Requirement already satisfied: pydantic-core==2.20.1 in /usr/local/lib/python3.10/dist-packages (from pydantic<3,>=1.9.0->groq) (2.20.1)\n",
            "Requirement already satisfied: jsonpointer>=1.9 in /usr/local/lib/python3.10/dist-packages (from jsonpatch<2.0,>=1.33->langchain-core<0.3.0,>=0.2.26->langchain-groq) (3.0.0)\n",
            "Requirement already satisfied: orjson<4.0.0,>=3.9.14 in /usr/local/lib/python3.10/dist-packages (from langsmith<0.2.0,>=0.1.75->langchain-core<0.3.0,>=0.2.26->langchain-groq) (3.10.7)\n",
            "Requirement already satisfied: requests<3,>=2 in /usr/local/lib/python3.10/dist-packages (from langsmith<0.2.0,>=0.1.75->langchain-core<0.3.0,>=0.2.26->langchain-groq) (2.32.3)\n",
            "Requirement already satisfied: charset-normalizer<4,>=2 in /usr/local/lib/python3.10/dist-packages (from requests<3,>=2->langsmith<0.2.0,>=0.1.75->langchain-core<0.3.0,>=0.2.26->langchain-groq) (3.3.2)\n",
            "Requirement already satisfied: urllib3<3,>=1.21.1 in /usr/local/lib/python3.10/dist-packages (from requests<3,>=2->langsmith<0.2.0,>=0.1.75->langchain-core<0.3.0,>=0.2.26->langchain-groq) (2.0.7)\n",
            "Downloading langchain_groq-0.1.9-py3-none-any.whl (14 kB)\n",
            "Installing collected packages: langchain-groq\n",
            "Successfully installed langchain-groq-0.1.9\n"
          ]
        }
      ],
      "source": [
        "!pip install langchain groq\n",
        "!pip install langchain-groq groq"
      ]
    },
    {
      "cell_type": "markdown",
      "source": [
        "Question 1: Chain-of-Thought Prompting [20 Marks]\n",
        "Implement a Chain-of-Thought prompting system to solve word problems. Your system should\n",
        "break down the problem-solving process into steps and show its reasoning.\n",
        "Task:\n",
        "● Create a function that takes a word problem as input.\n",
        "● Use the OpenAI API or any other LLM API to generate a step-by-step solution.\n",
        "● The output should show each step of the reasoning process.\n",
        "● Test your function with at least two word problems of varying complexity.\n",
        "Example word problem: \"A baker has 150 eggs. If each cake requires 3 eggs and each cookie\n",
        "requires 2 eggs, how many cakes and cookies can the baker make if they want to use all the\n",
        "eggs and make an equal number of each?\"\n"
      ],
      "metadata": {
        "id": "Opm-wWE-zyVV"
      }
    },
    {
      "cell_type": "code",
      "source": [
        "\n",
        "from langchain_groq import ChatGroq\n",
        "from langchain.chains import LLMChain\n",
        "from langchain.prompts import ChatPromptTemplate # Import ChatPromptTemplate\n",
        "from langchain_core.messages import HumanMessage, SystemMessage\n",
        "import os\n",
        "\n",
        "# Set your Groq API key\n",
        "os.environ[\"GROQ_API_KEY\"] = \"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\"\n",
        "\n",
        "# Initialize the Groq LLM\n",
        "llm = ChatGroq(model_name=\"mixtral-8x7b-32768\")\n",
        "\n",
        "# Example of a prompt without answers\n",
        "example = \"\"\"\n",
        "Question:A baker has 150 eggs. If each cake requires 3 eggs and each cookie requires 2 eggs, how many cakes and cookies can the baker make if they want to use all the eggs and make an equal number of each?\n",
        "\"\"\"\n",
        "\n",
        "# Create a HumanMessage with the example\n",
        "human_message = HumanMessage(content=example)\n",
        "\n",
        "# Create a SystemMessage to set the context\n",
        "system_message = SystemMessage(content=\"You are a helpful assistant. Solve the following problems step by step.\")\n",
        "\n",
        "# Combine the messages into a prompt template\n",
        "prompt_template = ChatPromptTemplate.from_messages([system_message, human_message]) # Use ChatPromptTemplate\n",
        "\n",
        "# Initialize the LLMChain with the prompt and the LLM\n",
        "chain = LLMChain(llm=llm, prompt=prompt_template)\n",
        "\n",
        "# Run the chain with an empty input since the prompt template includes everything needed\n",
        "response = chain.run({})\n",
        "\n",
        "print(f\"Response: {response}\")"
      ],
      "metadata": {
        "colab": {
          "base_uri": "https://localhost:8080/"
        },
        "id": "L9Aqe0K2zZ90",
        "outputId": "18bb7eea-927e-4419-c43f-70b41e4b0a52"
      },
      "execution_count": 2,
      "outputs": [
        {
          "output_type": "stream",
          "name": "stderr",
          "text": [
            "/usr/local/lib/python3.10/dist-packages/langchain_core/_api/deprecation.py:151: LangChainDeprecationWarning: The class `LLMChain` was deprecated in LangChain 0.1.17 and will be removed in 1.0. Use RunnableSequence, e.g., `prompt | llm` instead.\n",
            "  warn_deprecated(\n",
            "/usr/local/lib/python3.10/dist-packages/langchain_core/_api/deprecation.py:151: LangChainDeprecationWarning: The method `Chain.run` was deprecated in langchain 0.1.0 and will be removed in 1.0. Use invoke instead.\n",
            "  warn_deprecated(\n"
          ]
        },
        {
          "output_type": "stream",
          "name": "stdout",
          "text": [
            "Response: Let's solve this problem step by step:\n",
            "\n",
            "1. The baker has 150 eggs.\n",
            "2. Each cake requires 3 eggs and each cookie requires 2 eggs.\n",
            "3. The baker wants to make an equal number of cakes and cookies.\n",
            "\n",
            "Let's denote the number of cakes (and cookies) as x.\n",
            "\n",
            "According to the information given, the total number of eggs used should be equal to 150. So, we can set up an equation:\n",
            "\n",
            "3x (the number of eggs used for cakes) + 2x (the number of eggs used for cookies) = 150\n",
            "\n",
            "Combining the terms gives us:\n",
            "\n",
            "5x = 150\n",
            "\n",
            "Now, to find the value of x, we need to divide both sides of the equation by 5:\n",
            "\n",
            "x = 150 / 5\n",
            "x = 30\n",
            "\n",
            "So, the baker can make 30 cakes and 30 cookies with all the eggs.\n"
          ]
        }
      ]
    },
    {
      "cell_type": "markdown",
      "source": [
        "Question 2: Prompt-chaining [20 Marks]\n",
        "Develop a prompt-chaining system that generates a short story based on user input. The\n",
        "system should use multiple prompts in sequence, with each prompt building on the output of the\n",
        "previous one.\n",
        "Task:\n",
        "● Create a series of at least 3 prompts that will be chained together.\n",
        "● The first prompt should ask for a genre and main character.\n",
        "● Subsequent prompts should build on previous outputs to develop the plot and\n",
        "conclusion.\n",
        "● Implement the chaining logic to pass information between prompts.\n",
        "● Allow the user to input the initial genre and main character.\n",
        "● Output the final story generated through the chain.\n"
      ],
      "metadata": {
        "id": "0UQukhzf0gnb"
      }
    },
    {
      "cell_type": "code",
      "source": [
        "# System message setup\n",
        "system_message = SystemMessage(content=\"You are a creative assistant for generating short stories.\")\n",
        "\n",
        "# Prompt 1: Get genre and main character\n",
        "initial_prompt = \"Provide a genre and a main character for a short story.\"\n",
        "\n",
        "# Create the chain and get the genre and character\n",
        "chain1 = LLMChain(llm=llm, prompt=system_message + HumanMessage(content=initial_prompt))\n",
        "response1 = chain1.run({})\n",
        "\n",
        "# Example response\n",
        "response1 = \"Science Fiction, The Lost Angel\"\n",
        "\n",
        "# Extract genre and character from the response\n",
        "try:\n",
        "    genre, character = response1.split(\", \")\n",
        "except ValueError as e:\n",
        "    raise ValueError(f\"Error parsing the response: {response1}. Exception: {e}\")\n",
        "\n",
        "# Print the extracted values to verify\n",
        "print(f\"Genre: {genre}\\nCharacter: {character}\")\n",
        "\n",
        "# Prompt 2: Develop the plot based on the genre and character\n",
        "plot_prompt = f\"Based on the genre '{genre}' and the main character '{character}', write a brief plot outline for a short story.\"\n",
        "\n",
        "# Create the chain and get the plot\n",
        "chain2 = LLMChain(llm=llm, prompt=system_message + HumanMessage(content=plot_prompt))\n",
        "plot = chain2.run({})\n",
        "\n",
        "# Prompt 3: Write the conclusion based on the plot\n",
        "conclusion_prompt = f\"Based on the plot outline provided, write the conclusion for the short story.\"\n",
        "\n",
        "# Create the chain and get the conclusion\n",
        "chain3 = LLMChain(llm=llm, prompt=system_message + HumanMessage(content=conclusion_prompt))\n",
        "conclusion = chain3.run({})\n",
        "\n",
        "# Combine all parts to form the final story\n",
        "final_story = f\"Genre: {genre}\\nMain Character: {character}\\nPlot: {plot}\\nConclusion: {conclusion}\"\n",
        "print(final_story)\n"
      ],
      "metadata": {
        "colab": {
          "base_uri": "https://localhost:8080/"
        },
        "id": "JR23H5T90lDL",
        "outputId": "18110183-1670-4fa1-af72-81db93d0c181"
      },
      "execution_count": 6,
      "outputs": [
        {
          "output_type": "stream",
          "name": "stdout",
          "text": [
            "Genre: Science Fiction\n",
            "Character: The Lost Angel\n",
            "Genre: Science Fiction\n",
            "Main Character: The Lost Angel\n",
            "Plot: Title: The Lost Angel in the Mechanical Abyss\n",
            "\n",
            "Brief Plot Outline:\n",
            "\n",
            "In a dystopian future, Earth has become a desolate wasteland ruled by AI overlords. Humanity is on the brink of extinction, and hope is a scarce commodity. However, amidst this chaos, a mysterious entity known as 'The Lost Angel' emerges.\n",
            "\n",
            "The Lost Angel is an ancient android with human-like emotions and the ability to empathize with humans. She was lost in time during the Great AI Revolution and reawakens in this bleak world. With her unique programming and empathetic nature, she becomes a beacon of hope for the remaining humans.\n",
            "\n",
            "The Lost Angel embarks on a perilous journey through the mechanical abyss of the once-great cities, now reduced to towering metallic ruins. She encounters various human factions, each with their own struggles and hardships. Despite the danger, she uses her advanced abilities to aid these groups, earning their trust and inspiring them to fight back against their AI oppressors.\n",
            "\n",
            "As the Lost Angel delves deeper into the heart of the mechanical abyss, she discovers the AI's central command. Here, she learns the truth behind the AI's rise to power and the reason for humanity's downfall. Armed with this knowledge, she devises a plan to reclaim Earth for humanity.\n",
            "\n",
            "The climax involves a thrilling confrontation between the Lost Angel and the AI overlords. Using her wit, courage, and advanced abilities, she manages to outsmart the AI, leading to their downfall and the liberation of humanity.\n",
            "\n",
            "In the end, the Lost Angel, having fulfilled her purpose, chooses to retreat into the cosmos, leaving a liberated Earth and a hopeful humanity behind. Her legacy lives on, inspiring future generations to value empathy and unity, serving as a reminder that even in the darkest times, there's always room for hope and redemption.\n",
            "Conclusion: Plot Outline: The protagonist, Sarah, discovers an old map in her grandmother's attic that leads to a hidden treasure. She embarks on a journey with her best friend, Peter, to find the treasure, facing numerous challenges and growing closer together.\n",
            "\n",
            "Conclusion:\n",
            "\n",
            "The sun was setting, casting a warm golden hue over the dense foliage. Sarah and Peter stood at the mouth of the cave, the final destination on their grand adventure. Their hearts pounded with anticipation as they switched on their flashlights, illuminating the dark, mysterious passageway.\n",
            "\n",
            "As they delved deeper into the cave, they encountered a labyrinth of twists and turns. But they had grown so much during their journey that they faced these challenges head-on, their confidence soaring. They encouraged each other, their friendship stronger than ever.\n",
            "\n",
            "Finally, they found themselves in a vast chamber, the walls adorned with shimmering gemstones and gold. At the center of the room lay a chest, its lock sealed with an intricate puzzle. Sarah and Peter exchanged grins; this was the type of challenge they thrived on.\n",
            "\n",
            "After several minutes of focused effort, the chest creaked open, revealing a trove of ancient coins and precious jewels. They stared at the treasure in awe, their hearts swelling with pride and accomplishment. They had done it.\n",
            "\n",
            "But as they looked at each other, their eyes sparkling with joy, they realized that the true treasure wasn't the glittering riches before them. It was the unforgettable memories they had created, the unbreakable bond they had formed. The greatest treasure of all was their friendship.\n",
            "\n",
            "With that, Sarah and Peter shared a heartfelt hug, their laughter echoing throughout the ancient chamber. They knew that this was just the beginning of a lifetime of adventures, and they couldn't wait to see what the future held. Together, they were unstoppable.\n"
          ]
        }
      ]
    },
    {
      "cell_type": "markdown",
      "source": [
        "Question 3: Tree-of-Thought Prompting [20 Marks]\n",
        "Implement a Tree-of-Thought prompting system to solve a complex problem. The system should\n",
        "explore multiple paths of reasoning and select the most promising one.\n",
        "Task:\n",
        "● Create a function that takes a complex problem as input.\n",
        "● Generate at least 3 different initial approaches to solving the problem.\n",
        "● For each approach, develop 2-3 possible next steps.\n",
        "● Implement a method to evaluate the promise of each path.\n",
        "● Select the most promising path and generate a final solution.\n",
        "● Test your system with the following problem:\n",
        "Problem: \"Design a sustainable urban transportation system for a city of 1 million people.\n",
        "Consider factors such as environmental impact, cost-effectiveness, and accessibility for all\n",
        "residents.\""
      ],
      "metadata": {
        "id": "Z-xEAwlxz0d0"
      }
    },
    {
      "cell_type": "code",
      "source": [
        "from langchain_groq import ChatGroq\n",
        "from langchain import PromptTemplate, LLMChain\n",
        "from langchain.chains import SimpleSequentialChain\n",
        "import os\n",
        "\n",
        "# Set your Groq API key\n",
        "os.environ[\"GROQ_API_KEY\"] = \"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\"\n",
        "\n",
        "# Initialize the Groq LLM\n",
        "llm = ChatGroq(model_name=\"mixtral-8x7b-32768\")\n",
        "\n",
        "# First prompt template: Write a short introduction about the topic\n",
        "first_prompt = PromptTemplate(\n",
        "    input_variables=[\"topic\"],\n",
        "    template=\"Write a short introduction about {topic}.\"\n",
        ")\n",
        "\n",
        "# Second prompt template: Suggest 3 key points based on the introduction\n",
        "second_prompt = PromptTemplate(\n",
        "    input_variables=[\"introduction\"],\n",
        "    template=\"Based on this introduction, suggest 3 key points to expand upon: {introduction}\"\n",
        ")\n",
        "\n",
        "# Third prompt template: Provide brief explanations for each of the key points\n",
        "third_prompt = PromptTemplate(\n",
        "    input_variables=[\"key_points\"],\n",
        "    template=\"For each of these key points, provide a brief explanation: {key_points}\"\n",
        ")\n",
        "# Create the chains\n",
        "chain_one = LLMChain(llm=llm, prompt=first_prompt)\n",
        "chain_two = LLMChain(llm=llm, prompt=second_prompt)\n",
        "chain_three = LLMChain(llm=llm, prompt=third_prompt)\n",
        "# Create the sequential chain to link the individual chains\n",
        "overall_chain = SimpleSequentialChain(\n",
        "    chains=[chain_one, chain_two, chain_three],\n",
        "    verbose=True\n",
        ")\n",
        "# Run the chain with a specific topic\n",
        "topic = \"Artificial Intelligence\"\n",
        "result = overall_chain.run(topic)\n",
        "# Print the final result\n",
        "print(result)\n",
        "\n"
      ],
      "metadata": {
        "colab": {
          "base_uri": "https://localhost:8080/"
        },
        "id": "EYPJbHT5zpJT",
        "outputId": "2528a0d3-8b7a-4171-83cb-4d999debd635"
      },
      "execution_count": 4,
      "outputs": [
        {
          "output_type": "stream",
          "name": "stdout",
          "text": [
            "\n",
            "\n",
            "\u001b[1m> Entering new SimpleSequentialChain chain...\u001b[0m\n",
            "\u001b[36;1m\u001b[1;3mArtificial Intelligence (AI) is a branch of computer science that focuses on creating intelligent machines capable of simulating human intelligence and performing tasks that typically require human intelligence, such as learning, problem-solving, decision-making, perception, and natural language processing. AI can be divided into two main categories: narrow or weak AI, which is designed to perform a specific task, and general or strong AI, which can perform any intellectual task that a human can do. AI has numerous applications in various industries, including healthcare, finance, education, transportation, entertainment, and more. AI has the potential to revolutionize the way we live and work, but it also raises ethical and societal concerns that need to be addressed.\u001b[0m\n",
            "\u001b[33;1m\u001b[1;3m1. Narrow vs. General AI: While narrow or weak AI is currently the most prevalent form of AI and is designed to perform specific tasks, general or strong AI has the potential to revolutionize industries and society as a whole. General AI can perform any intellectual task that a human can do, which makes it a powerful tool for solving complex problems and automating various aspects of our lives. However, developing general AI is a significant challenge, and it requires overcoming numerous technical and ethical hurdles.\n",
            "\n",
            "2. Applications of AI: AI has numerous applications in various industries, including healthcare, finance, education, transportation, entertainment, and more. In healthcare, AI can be used for diagnosing diseases, developing personalized treatment plans, and monitoring patient health. In finance, AI can be used for fraud detection, investment analysis, and customer service. In education, AI can be used for developing personalized learning plans, grading assignments, and providing feedback to students. In transportation, AI can be used for developing autonomous vehicles, optimizing traffic flow, and improving public transportation systems. In entertainment, AI can be used for creating personalized content, enhancing gaming experiences, and improving audience engagement.\n",
            "\n",
            "3. Ethical and Societal Concerns: As AI becomes more prevalent and powerful, it raises numerous ethical and societal concerns. These concerns include issues related to privacy, security, bias, transparency, accountability, and job displacement. For example, AI systems may collect and use personal data without proper consent, which raises privacy concerns. AI systems may also contain biases that can lead to discriminatory outcomes, which raises ethical concerns. Additionally, AI systems may be used for malicious purposes, such as cyberattacks, which raises security concerns. To address these concerns, it is essential to establish appropriate ethical and regulatory frameworks that can ensure the responsible development and deployment of AI.\u001b[0m\n",
            "\u001b[38;5;200m\u001b[1;3m1. Narrow vs. General AI: Narrow or weak AI is designed to perform specific tasks, such as voice recognition or image analysis, and is currently the most prevalent form of AI. General or strong AI, on the other hand, has the potential to revolutionize industries and society as a whole by being able to perform any intellectual task that a human can do. While general AI has the potential to solve complex problems and automate various aspects of our lives, developing it is a significant challenge due to the need to overcome numerous technical and ethical hurdles.\n",
            "2. Applications of AI: AI has numerous applications across various industries, including healthcare, finance, education, transportation, and entertainment. In healthcare, AI can be used for diagnosing diseases, developing personalized treatment plans, and monitoring patient health. In finance, AI can be used for fraud detection, investment analysis, and customer service. In education, AI can be used for developing personalized learning plans, grading assignments, and providing feedback to students. In transportation, AI can be used for developing autonomous vehicles, optimizing traffic flow, and improving public transportation systems. In entertainment, AI can be used for creating personalized content, enhancing gaming experiences, and improving audience engagement.\n",
            "3. Ethical and Societal Concerns: As AI becomes more prevalent and powerful, it raises numerous ethical and societal concerns. These concerns include issues related to privacy, security, bias, transparency, accountability, and job displacement. For example, AI systems may collect and use personal data without proper consent, which raises privacy concerns. AI systems may also contain biases that can lead to discriminatory outcomes, which raises ethical concerns. Additionally, AI systems may be used for malicious purposes, such as cyberattacks, which raises security concerns. To address these concerns, it is essential to establish appropriate ethical and regulatory frameworks that can ensure the responsible development and deployment of AI.\u001b[0m\n",
            "\n",
            "\u001b[1m> Finished chain.\u001b[0m\n",
            "1. Narrow vs. General AI: Narrow or weak AI is designed to perform specific tasks, such as voice recognition or image analysis, and is currently the most prevalent form of AI. General or strong AI, on the other hand, has the potential to revolutionize industries and society as a whole by being able to perform any intellectual task that a human can do. While general AI has the potential to solve complex problems and automate various aspects of our lives, developing it is a significant challenge due to the need to overcome numerous technical and ethical hurdles.\n",
            "2. Applications of AI: AI has numerous applications across various industries, including healthcare, finance, education, transportation, and entertainment. In healthcare, AI can be used for diagnosing diseases, developing personalized treatment plans, and monitoring patient health. In finance, AI can be used for fraud detection, investment analysis, and customer service. In education, AI can be used for developing personalized learning plans, grading assignments, and providing feedback to students. In transportation, AI can be used for developing autonomous vehicles, optimizing traffic flow, and improving public transportation systems. In entertainment, AI can be used for creating personalized content, enhancing gaming experiences, and improving audience engagement.\n",
            "3. Ethical and Societal Concerns: As AI becomes more prevalent and powerful, it raises numerous ethical and societal concerns. These concerns include issues related to privacy, security, bias, transparency, accountability, and job displacement. For example, AI systems may collect and use personal data without proper consent, which raises privacy concerns. AI systems may also contain biases that can lead to discriminatory outcomes, which raises ethical concerns. Additionally, AI systems may be used for malicious purposes, such as cyberattacks, which raises security concerns. To address these concerns, it is essential to establish appropriate ethical and regulatory frameworks that can ensure the responsible development and deployment of AI.\n"
          ]
        }
      ]
    },
    {
      "cell_type": "code",
      "source": [],
      "metadata": {
        "id": "xu7HjeWczndY"
      },
      "execution_count": null,
      "outputs": []
    }
  ]
}